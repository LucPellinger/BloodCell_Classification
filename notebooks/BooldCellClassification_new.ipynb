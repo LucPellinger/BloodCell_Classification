{
 "cells": [
  {
   "cell_type": "markdown",
   "id": "0820a6bf",
   "metadata": {},
   "source": [
    "# Blood Cell Image Classification (new)\n",
    "\n",
    "This is the new version for the modeling if the Blood Cell image Classiication task where the conducted experiments are reimplemented as proper pure python scripts for easier maintenance and utility of the code.\n",
    "First, we will start to load the dataset here."
   ]
  },
  {
   "cell_type": "code",
   "execution_count": null,
   "id": "f80fbcb0",
   "metadata": {
    "vscode": {
     "languageId": "plaintext"
    }
   },
   "outputs": [],
   "source": [
    "from utils.archive.load_datasets import load_datasets\n",
    "\n",
    "# Define parameters\n",
    "IMG_HEIGHT = 240\n",
    "IMG_WIDTH = 320\n",
    "BATCH_SIZE = 32\n",
    "\n",
    "# Load the datasets\n",
    "train_ds, val_ds, test_ds = load_datasets(\n",
    "    train_dir=\"assets/data/dataset2-master/dataset2-master/images/TRAIN\",\n",
    "    test_dir=\"assets/data/dataset2-master/dataset2-master/images/TEST\",\n",
    "    img_height=IMG_HEIGHT,\n",
    "    img_width=IMG_WIDTH,\n",
    "    batch_size=BATCH_SIZE\n",
    ")"
   ]
  }
 ],
 "metadata": {
  "language_info": {
   "name": "python"
  }
 },
 "nbformat": 4,
 "nbformat_minor": 5
}
