{
 "cells": [
  {
   "cell_type": "markdown",
   "id": "0820a6bf",
   "metadata": {},
   "source": [
    "# Blood Cell Image Classification (new)\n",
    "\n",
    "This is the new version for the modeling if the Blood Cell image Classiication task where the conducted experiments are reimplemented as proper pure python scripts for easier maintenance and utility of the code.\n",
    "First, we will start to load the dataset here."
   ]
  },
  {
   "cell_type": "code",
   "execution_count": null,
   "id": "f80fbcb0",
   "metadata": {
    "vscode": {
     "languageId": "plaintext"
    }
   },
   "outputs": [],
   "source": [
    "from utils.archive.load_datasets import load_datasets\n",
    "\n",
    "# Define parameters\n",
    "IMG_HEIGHT = 240\n",
    "IMG_WIDTH = 320\n",
    "BATCH_SIZE = 32\n",
    "\n",
    "# Load the datasets\n",
    "train_ds, val_ds, test_ds = load_datasets(\n",
    "    train_dir=\"assets/data/dataset2-master/dataset2-master/images/TRAIN\",\n",
    "    test_dir=\"assets/data/dataset2-master/dataset2-master/images/TEST\",\n",
    "    img_height=IMG_HEIGHT,\n",
    "    img_width=IMG_WIDTH,\n",
    "    batch_size=BATCH_SIZE\n",
    ")"
   ]
  },
  {
   "cell_type": "markdown",
   "id": "547ecc1c",
   "metadata": {},
   "source": [
    "Next, we will run each of the following models and train them for 20 epochs each:\n",
    "\n",
    "        [\"VGG16\",\n",
    "        \"VGG19\",\n",
    "        \"EfficientNetB0\",\n",
    "        \"DenseNet121\",\n",
    "        \"NASNetMobile\",\n",
    "        \"MobileNetV2\",\n",
    "        \"ResNet101\",\n",
    "        \"ResNet50\",\n",
    "        \"InceptionV3\"\n",
    "        ]"
   ]
  }
 ],
 "metadata": {
  "language_info": {
   "name": "python"
  }
 },
 "nbformat": 4,
 "nbformat_minor": 5
}
